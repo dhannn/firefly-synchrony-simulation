{
 "cells": [
  {
   "cell_type": "markdown",
   "metadata": {},
   "source": [
    "# 👀 You would not believe your eyes...\n",
    "\n",
    "\n",
    "...if ten million fireflies light up in sync. But they do!\n",
    "\n",
    "It's a phenonenon known as **firefly synchrony** and it puzzled many expert biologists and curious thinkers alike! One might ask: how do fireflies synchronize their flashes? \n",
    "\n",
    "In this notebook, we explore complex systems, modelling them through a cellular automaton and uncover the mysteries behind the mystical behavior."
   ]
  },
  {
   "cell_type": "markdown",
   "metadata": {},
   "source": [
    "# So how *do* they synchronize their flashes?\n",
    "\n",
    "Is there a centralized brain that controls their flashes akin to that of the conductor of an orchestra? Or is it simpler than that?\n",
    "\n",
    "In reality, fireflies follow a set of simple rules. When alone, fireflies flash their light in random intervals. Flashing takes some energy so once flashed, the firefly takes some time to recover. \n",
    "\n",
    "When together, fireflies flash their light once they see another firefly within a distance flashing. At first, they might not synchronize right away but through time, these simple behavior leads to complex behaviors like synchronized flashing.\n",
    "\n",
    "This is a classic example of a **complex system**. Complex systems have compononents that interact through simple local rules and through these rules emerge a global pattern. In this case, the global emergent pattern is synchrony."
   ]
  },
  {
   "cell_type": "markdown",
   "metadata": {},
   "source": [
    "# Replicating their behavior\n",
    "The fun thing about computing is we can simulate behaviors we find in nature! This includes our little firefly example.\n",
    "\n",
    "When we represent a real-world phenomenon through a more simplified framework, we are **modelling** them. When we implement this model through code, we are **simulating** the phenomenon.\n",
    "\n",
    "There are many ways to represent complex systems; one of which is a **cellular automaton** (CA).\n",
    "\n",
    "## Cellular automata\n",
    "\n",
    "Cellular automata work by having a grid (or more formally, lattice) of cells, each with a specific state. In each time step, each cell is updated through a set of rules. The set of rules depend on the type of \"neighborhood\" the model has.  "
   ]
  },
  {
   "cell_type": "markdown",
   "metadata": {},
   "source": [
    "# Modelling firefly synchrony through CA\n",
    "\n",
    "Using everything we know so far, we can now model firefly synchrony!\n",
    "\n",
    "## Dimension of Lattice\n",
    "In our model, we will use a 2-dimensional lattice for easy visualization.\n",
    "\n",
    "## States\n",
    "We base our states on the existing theory of how fireflies work. Namely, we recognized the following states: `RECOVERING`, `READY` and `FLASH`. The `RECOVERING` state denotes that the firefly is still recovering and cannot flash at the next time step. The `READY` state means that, at any succeeding time step, the firefly has some chance of flashing. The `FLASH` state denotes the act of flashing.\n",
    "\n",
    "Other than the behavioral states, we also keep track of some internal states. The recovering state has an timer which.\n",
    "\n",
    "## Neighborhood\n",
    "Since fireflies have different distance scales for which they perceive other fireflies, we design a more dynamic neighborhood scheme. In this model, we take some random \"radius\" for each firefly which indicates the size of the neighborhood.\n",
    "\n",
    "## Ruleset\n",
    "The ruleset for updating each cell are as follows:\n",
    "- If there exists a flashing firefly in the neighborhood and the firefly is ready, flash.\n",
    "- If there is no flashing firefly in the neighborhood and the firefly is ready, flash only when it reaches a certain amount of threshold.\n",
    "- If firefly flashes, set a timer for a certain set amount of time and go to recovery state.\n",
    "- If the firefly is recovering, decrement the timer."
   ]
  },
  {
   "cell_type": "markdown",
   "metadata": {},
   "source": [
    "# Simulating firefly synchrony using `AgentPy`\n",
    "\n",
    "`AgentPy` is a minimal library mainly used for agent-based modelling. However, with the use of the `Grid` environment, we can also implement our own CA.\n",
    "\n",
    "Let's setup our model implementation!"
   ]
  },
  {
   "cell_type": "code",
   "execution_count": 1,
   "metadata": {},
   "outputs": [],
   "source": [
    "from model import *"
   ]
  },
  {
   "cell_type": "markdown",
   "metadata": {},
   "source": [
    "We first set our model parameters. The parameter `n_fireflies` denotes the number of fireflies in the system. The fireflies will be distributed randomly through the grid.\n",
    "\n",
    "The `size` parameter denotes the length of a side of the lattice. The model environment is restricted to only square shape.\n",
    "\n",
    "The `recovery_period` parameter denotes the number of time steps before a recovering firefly can be ready.\n",
    "\n",
    "The `flash_threshold` parameter denotes the rate from 0 to 1 that the rando.\n",
    "\n",
    "The `neighborhood_r` parameter denotes the maximum radius of a neighborhod.\n",
    "\n",
    "The `steps` parameter denotes how many time steps we run our model before it stops."
   ]
  },
  {
   "cell_type": "code",
   "execution_count": 2,
   "metadata": {},
   "outputs": [],
   "source": [
    "parameters = {\n",
    "    'n_fireflies': 500,\n",
    "    'size': 50,\n",
    "    'recovery_period': 10,\n",
    "    'flash_threshold': 0.05,\n",
    "    'neighbor_r': 10,\n",
    "    'steps': 400\n",
    "}"
   ]
  },
  {
   "cell_type": "markdown",
   "metadata": {},
   "source": [
    "Now that we have our parameters, we can now create our model."
   ]
  },
  {
   "cell_type": "code",
   "execution_count": 3,
   "metadata": {},
   "outputs": [],
   "source": [
    "model = FirefliesModel(parameters)"
   ]
  },
  {
   "cell_type": "markdown",
   "metadata": {},
   "source": [
    "Let's see what it looks like!"
   ]
  },
  {
   "cell_type": "code",
   "execution_count": null,
   "metadata": {},
   "outputs": [],
   "source": [
    "model.showAnimation()"
   ]
  },
  {
   "cell_type": "markdown",
   "metadata": {},
   "source": [
    "With these three lines of code, we can now play with our model. Try changing some parameters and see how the dynamic changes!"
   ]
  },
  {
   "cell_type": "code",
   "execution_count": null,
   "metadata": {},
   "outputs": [],
   "source": [
    "parameters = {\n",
    "    'n_fireflies': 500,\n",
    "    'size': 50,\n",
    "    'recovery_period': 10,\n",
    "    'flash_threshold': 0.05,\n",
    "    'neighbor_r': 10,\n",
    "    'steps': 400\n",
    "}\n",
    "model = FirefliesModel(parameters)\n",
    "model.showAnimation()"
   ]
  }
 ],
 "metadata": {
  "kernelspec": {
   "display_name": "Python 3 (ipykernel)",
   "language": "python",
   "name": "python3"
  },
  "language_info": {
   "codemirror_mode": {
    "name": "ipython",
    "version": 3
   },
   "file_extension": ".py",
   "mimetype": "text/x-python",
   "name": "python",
   "nbconvert_exporter": "python",
   "pygments_lexer": "ipython3",
   "version": "3.10.7"
  }
 },
 "nbformat": 4,
 "nbformat_minor": 2
}
